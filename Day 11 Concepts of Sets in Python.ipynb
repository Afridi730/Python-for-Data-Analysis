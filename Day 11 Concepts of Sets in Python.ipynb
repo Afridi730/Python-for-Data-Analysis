{
 "cells": [
  {
   "cell_type": "markdown",
   "id": "8c192f18",
   "metadata": {},
   "source": [
    "# Concept of Sets in Python"
   ]
  },
  {
   "cell_type": "markdown",
   "id": "5040f8c3",
   "metadata": {},
   "source": [
    "# Creating a Set"
   ]
  },
  {
   "cell_type": "code",
   "execution_count": 2,
   "id": "6394452b",
   "metadata": {},
   "outputs": [
    {
     "name": "stdout",
     "output_type": "stream",
     "text": [
      "{'animals', 'Cat', 'ball'}\n",
      "<class 'set'>\n"
     ]
    }
   ],
   "source": [
    "a = { \"animals\" , \"ball\" , \"Cat\"}\n",
    "print(a)\n",
    "print(type(a))"
   ]
  },
  {
   "cell_type": "markdown",
   "id": "bac697e1",
   "metadata": {},
   "source": [
    "# Set items are unordered"
   ]
  },
  {
   "cell_type": "code",
   "execution_count": 3,
   "id": "3e5fdc59",
   "metadata": {},
   "outputs": [
    {
     "ename": "TypeError",
     "evalue": "'set' object is not subscriptable",
     "output_type": "error",
     "traceback": [
      "\u001b[1;31m---------------------------------------------------------------------------\u001b[0m",
      "\u001b[1;31mTypeError\u001b[0m                                 Traceback (most recent call last)",
      "\u001b[1;32m~\\AppData\\Local\\Temp\\ipykernel_26376\\368396115.py\u001b[0m in \u001b[0;36m<module>\u001b[1;34m\u001b[0m\n\u001b[0;32m      1\u001b[0m \u001b[0ma\u001b[0m \u001b[1;33m=\u001b[0m \u001b[1;33m{\u001b[0m \u001b[1;34m\"animals\"\u001b[0m \u001b[1;33m,\u001b[0m \u001b[1;34m\"ball\"\u001b[0m \u001b[1;33m,\u001b[0m \u001b[1;34m\"Cat\"\u001b[0m\u001b[1;33m}\u001b[0m\u001b[1;33m\u001b[0m\u001b[1;33m\u001b[0m\u001b[0m\n\u001b[1;32m----> 2\u001b[1;33m \u001b[0mprint\u001b[0m\u001b[1;33m(\u001b[0m\u001b[0ma\u001b[0m\u001b[1;33m[\u001b[0m\u001b[1;36m0\u001b[0m\u001b[1;33m]\u001b[0m\u001b[1;33m)\u001b[0m\u001b[1;33m\u001b[0m\u001b[1;33m\u001b[0m\u001b[0m\n\u001b[0m",
      "\u001b[1;31mTypeError\u001b[0m: 'set' object is not subscriptable"
     ]
    }
   ],
   "source": [
    "a = { \"animals\" , \"ball\" , \"Cat\"}\n",
    "print(a[0])"
   ]
  },
  {
   "cell_type": "markdown",
   "id": "7abb3dd9",
   "metadata": {},
   "source": [
    "# Duplicates not allowed"
   ]
  },
  {
   "cell_type": "code",
   "execution_count": 4,
   "id": "d3998c0e",
   "metadata": {},
   "outputs": [
    {
     "name": "stdout",
     "output_type": "stream",
     "text": [
      "{'animals', 'Cat', 'ball'}\n"
     ]
    }
   ],
   "source": [
    "a = { \"animals\" , \"ball\" , \"Cat\" ,\"animals\" , \"ball\" , \"Cat\"}\n",
    "print(a)"
   ]
  },
  {
   "cell_type": "markdown",
   "id": "e0157ef0",
   "metadata": {},
   "source": [
    "# True and 1 are considered same"
   ]
  },
  {
   "cell_type": "code",
   "execution_count": 5,
   "id": "71a7e2bc",
   "metadata": {},
   "outputs": [
    {
     "name": "stdout",
     "output_type": "stream",
     "text": [
      "{1, 2, 3, 'Cat', 'animals', 'ball'}\n"
     ]
    }
   ],
   "source": [
    "a = { \"animals\" , \"ball\" , \"Cat\" ,\"animals\" , \"ball\" , \"Cat\", 1,2,3,True}\n",
    "print(a)"
   ]
  },
  {
   "cell_type": "markdown",
   "id": "4c7a01c0",
   "metadata": {},
   "source": [
    "# Get the length of the set"
   ]
  },
  {
   "cell_type": "code",
   "execution_count": 6,
   "id": "f281cb59",
   "metadata": {},
   "outputs": [
    {
     "name": "stdout",
     "output_type": "stream",
     "text": [
      "6\n"
     ]
    }
   ],
   "source": [
    "a = { \"animals\" , \"ball\" , \"Cat\" ,\"animals\" , \"ball\" , \"Cat\", 1,2,3,True}\n",
    "print(len(a))"
   ]
  },
  {
   "cell_type": "markdown",
   "id": "49fcf8e4",
   "metadata": {},
   "source": [
    "# Set Items - Data types"
   ]
  },
  {
   "cell_type": "code",
   "execution_count": 7,
   "id": "7a2c42b8",
   "metadata": {},
   "outputs": [
    {
     "name": "stdout",
     "output_type": "stream",
     "text": [
      "{1, 2, 3, 4} {3.4, 2.3, 3.5, 4.1} {'b', 'c', 'a'} {False, True}\n"
     ]
    }
   ],
   "source": [
    "x1 = { 1,2,3,4}\n",
    "x2 = { 2.3,3.4,4.1,3.5}\n",
    "x3 = { \"a\" , \"b\" ,\"c\"}\n",
    "x4 = { True , False , True}\n",
    "print(x1,x2,x3,x4)"
   ]
  },
  {
   "cell_type": "code",
   "execution_count": 9,
   "id": "1893c672",
   "metadata": {},
   "outputs": [
    {
     "name": "stdout",
     "output_type": "stream",
     "text": [
      "{1, 2, 3.1, 2.1, 2.3, 4.5, (6+3j), -5, 'apple'}\n"
     ]
    }
   ],
   "source": [
    "m = { 1,2,-5,2.1,2.3,3.1,4.5,6+3j,\"apple\",True}\n",
    "print(m)"
   ]
  },
  {
   "cell_type": "markdown",
   "id": "c0f5ca63",
   "metadata": {},
   "source": [
    "# Cannot add list to a set"
   ]
  },
  {
   "cell_type": "code",
   "execution_count": 10,
   "id": "f64b0038",
   "metadata": {},
   "outputs": [
    {
     "ename": "TypeError",
     "evalue": "unhashable type: 'list'",
     "output_type": "error",
     "traceback": [
      "\u001b[1;31m---------------------------------------------------------------------------\u001b[0m",
      "\u001b[1;31mTypeError\u001b[0m                                 Traceback (most recent call last)",
      "\u001b[1;32m~\\AppData\\Local\\Temp\\ipykernel_26376\\1901065981.py\u001b[0m in \u001b[0;36m<module>\u001b[1;34m\u001b[0m\n\u001b[1;32m----> 1\u001b[1;33m \u001b[0mx5\u001b[0m \u001b[1;33m=\u001b[0m \u001b[1;33m{\u001b[0m \u001b[1;33m[\u001b[0m \u001b[1;36m1\u001b[0m\u001b[1;33m,\u001b[0m\u001b[1;36m2\u001b[0m\u001b[1;33m,\u001b[0m\u001b[1;36m3\u001b[0m\u001b[1;33m,\u001b[0m\u001b[1;36m4\u001b[0m\u001b[1;33m]\u001b[0m\u001b[1;33m}\u001b[0m\u001b[1;33m\u001b[0m\u001b[1;33m\u001b[0m\u001b[0m\n\u001b[0m\u001b[0;32m      2\u001b[0m \u001b[0mprint\u001b[0m\u001b[1;33m(\u001b[0m\u001b[0mx5\u001b[0m\u001b[1;33m)\u001b[0m\u001b[1;33m\u001b[0m\u001b[1;33m\u001b[0m\u001b[0m\n",
      "\u001b[1;31mTypeError\u001b[0m: unhashable type: 'list'"
     ]
    }
   ],
   "source": [
    "x5 = { [ 1,2,3,4]}\n",
    "print(x5)"
   ]
  },
  {
   "cell_type": "markdown",
   "id": "1348dd9a",
   "metadata": {},
   "source": [
    "# Add Tuple to Set"
   ]
  },
  {
   "cell_type": "code",
   "execution_count": 12,
   "id": "5d491740",
   "metadata": {},
   "outputs": [
    {
     "name": "stdout",
     "output_type": "stream",
     "text": [
      "{(1, 2, 3, 4)}\n"
     ]
    }
   ],
   "source": [
    "x5 = {(1,2,3,4)}\n",
    "print(x5)"
   ]
  },
  {
   "cell_type": "markdown",
   "id": "6f089da0",
   "metadata": {},
   "source": [
    "# Dictionary in Set Not Possible"
   ]
  },
  {
   "cell_type": "code",
   "execution_count": 14,
   "id": "dd5a16ef",
   "metadata": {},
   "outputs": [
    {
     "ename": "TypeError",
     "evalue": "unhashable type: 'dict'",
     "output_type": "error",
     "traceback": [
      "\u001b[1;31m---------------------------------------------------------------------------\u001b[0m",
      "\u001b[1;31mTypeError\u001b[0m                                 Traceback (most recent call last)",
      "\u001b[1;32m~\\AppData\\Local\\Temp\\ipykernel_26376\\1944426498.py\u001b[0m in \u001b[0;36m<module>\u001b[1;34m\u001b[0m\n\u001b[1;32m----> 1\u001b[1;33m \u001b[0mx6\u001b[0m \u001b[1;33m=\u001b[0m \u001b[1;33m{\u001b[0m\u001b[1;33m{\u001b[0m\u001b[1;34m\"a\"\u001b[0m\u001b[1;33m:\u001b[0m\u001b[1;36m1\u001b[0m\u001b[1;33m,\u001b[0m\u001b[1;34m\"b\"\u001b[0m\u001b[1;33m:\u001b[0m\u001b[1;36m2\u001b[0m\u001b[1;33m}\u001b[0m\u001b[1;33m}\u001b[0m\u001b[1;33m\u001b[0m\u001b[1;33m\u001b[0m\u001b[0m\n\u001b[0m\u001b[0;32m      2\u001b[0m \u001b[0mprint\u001b[0m\u001b[1;33m(\u001b[0m\u001b[0mx6\u001b[0m\u001b[1;33m)\u001b[0m\u001b[1;33m\u001b[0m\u001b[1;33m\u001b[0m\u001b[0m\n",
      "\u001b[1;31mTypeError\u001b[0m: unhashable type: 'dict'"
     ]
    }
   ],
   "source": [
    "x6 = {{\"a\":1,\"b\":2}}\n",
    "print(x6)"
   ]
  },
  {
   "cell_type": "markdown",
   "id": "b16abcfe",
   "metadata": {},
   "source": [
    "# Nesting Not possible"
   ]
  },
  {
   "cell_type": "code",
   "execution_count": 15,
   "id": "86ef438c",
   "metadata": {},
   "outputs": [
    {
     "ename": "TypeError",
     "evalue": "unhashable type: 'set'",
     "output_type": "error",
     "traceback": [
      "\u001b[1;31m---------------------------------------------------------------------------\u001b[0m",
      "\u001b[1;31mTypeError\u001b[0m                                 Traceback (most recent call last)",
      "\u001b[1;32m~\\AppData\\Local\\Temp\\ipykernel_26376\\4006199067.py\u001b[0m in \u001b[0;36m<module>\u001b[1;34m\u001b[0m\n\u001b[1;32m----> 1\u001b[1;33m \u001b[0ma\u001b[0m \u001b[1;33m=\u001b[0m \u001b[1;33m{\u001b[0m\u001b[1;33m{\u001b[0m \u001b[1;36m1\u001b[0m\u001b[1;33m,\u001b[0m\u001b[1;36m2\u001b[0m\u001b[1;33m,\u001b[0m\u001b[1;36m3\u001b[0m\u001b[1;33m}\u001b[0m\u001b[1;33m,\u001b[0m \u001b[1;33m{\u001b[0m \u001b[1;36m4\u001b[0m\u001b[1;33m,\u001b[0m\u001b[1;36m5\u001b[0m\u001b[1;33m,\u001b[0m\u001b[1;36m6\u001b[0m\u001b[1;33m}\u001b[0m\u001b[1;33m}\u001b[0m\u001b[1;33m\u001b[0m\u001b[1;33m\u001b[0m\u001b[0m\n\u001b[0m\u001b[0;32m      2\u001b[0m \u001b[0mprint\u001b[0m\u001b[1;33m(\u001b[0m\u001b[0ma\u001b[0m\u001b[1;33m)\u001b[0m\u001b[1;33m\u001b[0m\u001b[1;33m\u001b[0m\u001b[0m\n",
      "\u001b[1;31mTypeError\u001b[0m: unhashable type: 'set'"
     ]
    }
   ],
   "source": [
    "a = {{ 1,2,3}, { 4,5,6}}\n",
    "print(a)"
   ]
  },
  {
   "cell_type": "markdown",
   "id": "88b0b55f",
   "metadata": {},
   "source": [
    "# Set Constructor"
   ]
  },
  {
   "cell_type": "code",
   "execution_count": 16,
   "id": "da80034e",
   "metadata": {},
   "outputs": [
    {
     "name": "stdout",
     "output_type": "stream",
     "text": [
      "{('alpha', 'Beta', 'Gamma')}\n",
      "<class 'set'>\n"
     ]
    }
   ],
   "source": [
    "thisset = {( \"alpha\" , \"Beta\" , \"Gamma\")}\n",
    "print(thisset)\n",
    "print(type(thisset))"
   ]
  },
  {
   "cell_type": "code",
   "execution_count": 17,
   "id": "70752fdc",
   "metadata": {},
   "outputs": [
    {
     "name": "stdout",
     "output_type": "stream",
     "text": [
      "{}\n",
      "<class 'dict'>\n"
     ]
    }
   ],
   "source": [
    "a = {}\n",
    "print(a)\n",
    "print(type(a))"
   ]
  },
  {
   "cell_type": "code",
   "execution_count": 22,
   "id": "72235457",
   "metadata": {},
   "outputs": [
    {
     "name": "stdout",
     "output_type": "stream",
     "text": [
      "set()\n",
      "<class 'set'>\n"
     ]
    }
   ],
   "source": [
    "empty = set()\n",
    "print(empty)\n",
    "print(type(empty))\n"
   ]
  },
  {
   "cell_type": "markdown",
   "id": "3d5ef293",
   "metadata": {},
   "source": [
    "# Access of Items - for Loop"
   ]
  },
  {
   "cell_type": "code",
   "execution_count": 24,
   "id": "5702981c",
   "metadata": {},
   "outputs": [
    {
     "name": "stdout",
     "output_type": "stream",
     "text": [
      "b\n",
      "d\n",
      "c\n",
      "a\n"
     ]
    }
   ],
   "source": [
    "a = {\"a\", \"b\",\"c\",\"d\"}\n",
    "for x in a:\n",
    "    print(x)"
   ]
  },
  {
   "cell_type": "markdown",
   "id": "7826b883",
   "metadata": {},
   "source": [
    "# Check if \"Item\" is present in the set"
   ]
  },
  {
   "cell_type": "code",
   "execution_count": 25,
   "id": "d0796c34",
   "metadata": {},
   "outputs": [
    {
     "name": "stdout",
     "output_type": "stream",
     "text": [
      "True\n"
     ]
    }
   ],
   "source": [
    "a = { \"Data\",\"Python\", \"Code\"}\n",
    "print(\"Code\" in a)"
   ]
  },
  {
   "cell_type": "code",
   "execution_count": 26,
   "id": "7ca9a48b",
   "metadata": {},
   "outputs": [
    {
     "name": "stdout",
     "output_type": "stream",
     "text": [
      "False\n"
     ]
    }
   ],
   "source": [
    "print(\"Error\" in a)"
   ]
  },
  {
   "cell_type": "markdown",
   "id": "9f7be2d0",
   "metadata": {},
   "source": [
    "# Add Items"
   ]
  },
  {
   "cell_type": "code",
   "execution_count": 27,
   "id": "94a20220",
   "metadata": {},
   "outputs": [
    {
     "name": "stdout",
     "output_type": "stream",
     "text": [
      "{100, 'b', 'a', 'c', 'd'}\n"
     ]
    }
   ],
   "source": [
    "a = {\"a\", \"b\",\"c\",\"d\"}\n",
    "a.add(100)\n",
    "print(a)"
   ]
  },
  {
   "cell_type": "markdown",
   "id": "adfc3ca8",
   "metadata": {},
   "source": [
    "# Update"
   ]
  },
  {
   "cell_type": "code",
   "execution_count": 28,
   "id": "bc221560",
   "metadata": {},
   "outputs": [
    {
     "name": "stdout",
     "output_type": "stream",
     "text": [
      "{'Data', 'Code', 'b', 'Python', 'c', 'd', 'a'}\n"
     ]
    }
   ],
   "source": [
    "x = { \"Data\",\"Python\", \"Code\"}\n",
    "y = {\"a\", \"b\",\"c\",\"d\"}\n",
    "x.update(y)\n",
    "print(x)"
   ]
  },
  {
   "cell_type": "markdown",
   "id": "9ebf389a",
   "metadata": {},
   "source": [
    "# Remove set Items"
   ]
  },
  {
   "cell_type": "code",
   "execution_count": 29,
   "id": "33705f5a",
   "metadata": {},
   "outputs": [
    {
     "name": "stdout",
     "output_type": "stream",
     "text": [
      "{1, 2, 3.1, 2.1, 2.3, 4.5, -5, 'apple'}\n"
     ]
    }
   ],
   "source": [
    "m = { 1,2,-5,2.1,2.3,3.1,4.5,6+3j,\"apple\",True}\n",
    "m.remove(6+3j)\n",
    "print(m)"
   ]
  },
  {
   "cell_type": "markdown",
   "id": "7a40fffd",
   "metadata": {},
   "source": [
    "# Pop function for random Item removal"
   ]
  },
  {
   "cell_type": "code",
   "execution_count": 30,
   "id": "ac7d6ac4",
   "metadata": {},
   "outputs": [
    {
     "name": "stdout",
     "output_type": "stream",
     "text": [
      "{2, 3.1, 2.1, 2.3, 4.5, (6+3j), -5, 'apple'}\n"
     ]
    }
   ],
   "source": [
    "m = { 1,2,-5,2.1,2.3,3.1,4.5,6+3j,\"apple\",True}\n",
    "x = m.pop()\n",
    "print(m)"
   ]
  },
  {
   "cell_type": "markdown",
   "id": "b45b6ac6",
   "metadata": {},
   "source": [
    "# Clear"
   ]
  },
  {
   "cell_type": "code",
   "execution_count": 31,
   "id": "1d9ae12f",
   "metadata": {},
   "outputs": [
    {
     "name": "stdout",
     "output_type": "stream",
     "text": [
      "set()\n"
     ]
    }
   ],
   "source": [
    "m = { 1,2,-5,2.1,2.3,3.1,4.5,6+3j,\"apple\",True}\n",
    "m.clear()\n",
    "print(m)"
   ]
  },
  {
   "cell_type": "markdown",
   "id": "6ed9255d",
   "metadata": {},
   "source": [
    "# Delete"
   ]
  },
  {
   "cell_type": "code",
   "execution_count": 34,
   "id": "a08d68ad",
   "metadata": {},
   "outputs": [
    {
     "ename": "NameError",
     "evalue": "name 'm' is not defined",
     "output_type": "error",
     "traceback": [
      "\u001b[1;31m---------------------------------------------------------------------------\u001b[0m",
      "\u001b[1;31mNameError\u001b[0m                                 Traceback (most recent call last)",
      "\u001b[1;32m~\\AppData\\Local\\Temp\\ipykernel_26376\\1169233996.py\u001b[0m in \u001b[0;36m<module>\u001b[1;34m\u001b[0m\n\u001b[0;32m      1\u001b[0m \u001b[0mm\u001b[0m \u001b[1;33m=\u001b[0m \u001b[1;33m{\u001b[0m \u001b[1;36m1\u001b[0m\u001b[1;33m,\u001b[0m\u001b[1;36m2\u001b[0m\u001b[1;33m,\u001b[0m\u001b[1;33m-\u001b[0m\u001b[1;36m5\u001b[0m\u001b[1;33m,\u001b[0m\u001b[1;36m2.1\u001b[0m\u001b[1;33m,\u001b[0m\u001b[1;36m2.3\u001b[0m\u001b[1;33m,\u001b[0m\u001b[1;36m3.1\u001b[0m\u001b[1;33m,\u001b[0m\u001b[1;36m4.5\u001b[0m\u001b[1;33m,\u001b[0m\u001b[1;36m6\u001b[0m\u001b[1;33m+\u001b[0m\u001b[1;36m3j\u001b[0m\u001b[1;33m,\u001b[0m\u001b[1;34m\"apple\"\u001b[0m\u001b[1;33m,\u001b[0m\u001b[1;32mTrue\u001b[0m\u001b[1;33m}\u001b[0m\u001b[1;33m\u001b[0m\u001b[1;33m\u001b[0m\u001b[0m\n\u001b[0;32m      2\u001b[0m \u001b[1;32mdel\u001b[0m \u001b[0mm\u001b[0m\u001b[1;33m\u001b[0m\u001b[1;33m\u001b[0m\u001b[0m\n\u001b[1;32m----> 3\u001b[1;33m \u001b[0mprint\u001b[0m\u001b[1;33m(\u001b[0m\u001b[0mm\u001b[0m\u001b[1;33m)\u001b[0m\u001b[1;33m\u001b[0m\u001b[1;33m\u001b[0m\u001b[0m\n\u001b[0m",
      "\u001b[1;31mNameError\u001b[0m: name 'm' is not defined"
     ]
    }
   ],
   "source": [
    "m = { 1,2,-5,2.1,2.3,3.1,4.5,6+3j,\"apple\",True}\n",
    "del m\n",
    "print(m)"
   ]
  },
  {
   "cell_type": "markdown",
   "id": "6de3f51c",
   "metadata": {},
   "source": [
    "# Join two sets"
   ]
  },
  {
   "cell_type": "code",
   "execution_count": 35,
   "id": "0628f049",
   "metadata": {},
   "outputs": [
    {
     "name": "stdout",
     "output_type": "stream",
     "text": [
      "{1, 2, 3, 4, 'b', 'c', 'a'}\n"
     ]
    }
   ],
   "source": [
    "x = { \"a\" , \"b\" ,\"c\"}\n",
    "y = { 1,2,3,4}\n",
    "z = x.union(y)\n",
    "print(z)"
   ]
  },
  {
   "cell_type": "markdown",
   "id": "a0b89de6",
   "metadata": {},
   "source": [
    "# Maximum and Minimum Values"
   ]
  },
  {
   "cell_type": "markdown",
   "id": "bd7dd77a",
   "metadata": {},
   "source": [
    "# Write a python program to find max and min values"
   ]
  },
  {
   "cell_type": "code",
   "execution_count": 38,
   "id": "428001d1",
   "metadata": {},
   "outputs": [
    {
     "name": "stdout",
     "output_type": "stream",
     "text": [
      "Original set of elements\n",
      "{2, 3, 20, 5, 10, 15}\n",
      "Maximum Value of set is    \n",
      "20\n",
      "Minumum Value of set is    \n",
      "2\n"
     ]
    }
   ],
   "source": [
    "setn = {5,10,3,2,15,20}\n",
    "print(\"Original set of elements\")\n",
    "print(setn)\n",
    "print( \"Maximum Value of set is    \")\n",
    "print(max(setn))\n",
    "print( \"Minumum Value of set is    \")\n",
    "print(min(setn))"
   ]
  },
  {
   "cell_type": "markdown",
   "id": "2360c02b",
   "metadata": {},
   "source": [
    "# Return of new set from identical items of two sets"
   ]
  },
  {
   "cell_type": "code",
   "execution_count": 40,
   "id": "609a97a1",
   "metadata": {},
   "outputs": [
    {
     "name": "stdout",
     "output_type": "stream",
     "text": [
      "{40, 50, 20, 60, 30}\n"
     ]
    }
   ],
   "source": [
    "set1 = {10,20,30,40,50 ,60}\n",
    "set2 = { 20,30,40,50,60,70,80}\n",
    "print (set1.intersection(set2))"
   ]
  },
  {
   "cell_type": "markdown",
   "id": "01c292a0",
   "metadata": {},
   "source": [
    "# Assignment - Find the length, max , min values , conversion to tuple and list of a set"
   ]
  },
  {
   "cell_type": "code",
   "execution_count": 42,
   "id": "7715ace5",
   "metadata": {},
   "outputs": [
    {
     "name": "stdout",
     "output_type": "stream",
     "text": [
      "8\n",
      "80\n",
      "10\n",
      "(70, 40, 10, 80, 50, 20, 60, 30)\n",
      "[70, 40, 10, 80, 50, 20, 60, 30]\n"
     ]
    }
   ],
   "source": [
    "x = {10,20,30,40,50,60,70,80}\n",
    "print(len(x))\n",
    "print(max(x))\n",
    "print(min(x))\n",
    "y = tuple(x)\n",
    "print(y)\n",
    "z = list(y)\n",
    "print(z)"
   ]
  },
  {
   "cell_type": "code",
   "execution_count": null,
   "id": "4d55583e",
   "metadata": {},
   "outputs": [],
   "source": []
  }
 ],
 "metadata": {
  "kernelspec": {
   "display_name": "Python 3 (ipykernel)",
   "language": "python",
   "name": "python3"
  },
  "language_info": {
   "codemirror_mode": {
    "name": "ipython",
    "version": 3
   },
   "file_extension": ".py",
   "mimetype": "text/x-python",
   "name": "python",
   "nbconvert_exporter": "python",
   "pygments_lexer": "ipython3",
   "version": "3.9.12"
  }
 },
 "nbformat": 4,
 "nbformat_minor": 5
}
