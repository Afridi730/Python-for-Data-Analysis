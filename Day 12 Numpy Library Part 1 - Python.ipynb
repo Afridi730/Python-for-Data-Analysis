{
 "cells": [
  {
   "cell_type": "markdown",
   "id": "4281383a",
   "metadata": {},
   "source": [
    "# Day 12"
   ]
  },
  {
   "cell_type": "markdown",
   "id": "05360cc8",
   "metadata": {},
   "source": [
    "# Numpy Library Part 1"
   ]
  },
  {
   "cell_type": "code",
   "execution_count": 3,
   "id": "d5bf6dd3",
   "metadata": {},
   "outputs": [
    {
     "name": "stdout",
     "output_type": "stream",
     "text": [
      "[1 2 3 4 5]\n",
      "<class 'numpy.ndarray'>\n"
     ]
    }
   ],
   "source": [
    "import numpy as np\n",
    "arr = np.array( [ 1,2,3,4,5])\n",
    "print(arr)\n",
    "print(type(arr))"
   ]
  },
  {
   "cell_type": "markdown",
   "id": "5ab266bf",
   "metadata": {},
   "source": [
    "# Dimensions in Array"
   ]
  },
  {
   "cell_type": "code",
   "execution_count": 4,
   "id": "0797ce21",
   "metadata": {},
   "outputs": [
    {
     "name": "stdout",
     "output_type": "stream",
     "text": [
      "20\n",
      "<class 'numpy.ndarray'>\n"
     ]
    }
   ],
   "source": [
    "arr = np.array(20)\n",
    "print(arr)\n",
    "print(type(arr))"
   ]
  },
  {
   "cell_type": "code",
   "execution_count": 5,
   "id": "e9199c36",
   "metadata": {},
   "outputs": [
    {
     "name": "stdout",
     "output_type": "stream",
     "text": [
      "0\n"
     ]
    }
   ],
   "source": [
    "print(arr.ndim)"
   ]
  },
  {
   "cell_type": "markdown",
   "id": "0dd57b8b",
   "metadata": {},
   "source": [
    "# 1d array"
   ]
  },
  {
   "cell_type": "code",
   "execution_count": 6,
   "id": "99e28013",
   "metadata": {},
   "outputs": [
    {
     "name": "stdout",
     "output_type": "stream",
     "text": [
      "[1 2 3 4 5 6]\n",
      "<class 'numpy.ndarray'>\n",
      "1\n"
     ]
    }
   ],
   "source": [
    "arr = np.array([1,2,3,4,5,6])\n",
    "print(arr)\n",
    "print(type(arr))\n",
    "print(arr.ndim)"
   ]
  },
  {
   "cell_type": "markdown",
   "id": "dd958b1f",
   "metadata": {},
   "source": [
    "# 2d array"
   ]
  },
  {
   "cell_type": "code",
   "execution_count": 7,
   "id": "15b933f9",
   "metadata": {},
   "outputs": [
    {
     "name": "stdout",
     "output_type": "stream",
     "text": [
      "[[1 2 3]\n",
      " [1 2 3]]\n",
      "<class 'numpy.ndarray'>\n",
      "2\n"
     ]
    }
   ],
   "source": [
    "arr = np.array([[1,2,3],[1,2,3]])\n",
    "print(arr)\n",
    "print(type(arr))\n",
    "print(arr.ndim)"
   ]
  },
  {
   "cell_type": "code",
   "execution_count": 8,
   "id": "f886f9d1",
   "metadata": {},
   "outputs": [
    {
     "name": "stdout",
     "output_type": "stream",
     "text": [
      "[[1.3 2.4 3.8]\n",
      " [1.9 2.7 3.6]]\n",
      "<class 'numpy.ndarray'>\n",
      "2\n"
     ]
    }
   ],
   "source": [
    "arr = np.array([[1.3,2.4,3.8],[1.9,2.7,3.6]])\n",
    "print(arr)\n",
    "print(type(arr))\n",
    "print(arr.ndim)"
   ]
  },
  {
   "cell_type": "markdown",
   "id": "383af5ab",
   "metadata": {},
   "source": [
    "# 3d array\n",
    "# Anarray that has 2-d arrays (matrices)as its elements is called a 3-d array"
   ]
  },
  {
   "cell_type": "code",
   "execution_count": 10,
   "id": "9d4de878",
   "metadata": {},
   "outputs": [
    {
     "name": "stdout",
     "output_type": "stream",
     "text": [
      "[[[1.3 2.4 3.8]\n",
      "  [4.  5.  6. ]]\n",
      "\n",
      " [[1.9 2.7 3.6]\n",
      "  [1.  2.  3. ]]]\n",
      "<class 'numpy.ndarray'>\n",
      "3\n"
     ]
    }
   ],
   "source": [
    "arr = np.array([[[1.3,2.4,3.8],[4,5,6]],[[1.9,2.7,3.6],[1,2,3]]])\n",
    "print(arr)\n",
    "print(type(arr))\n",
    "print(arr.ndim)"
   ]
  },
  {
   "cell_type": "markdown",
   "id": "8aed4aa6",
   "metadata": {},
   "source": [
    "# Check number of dimensions"
   ]
  },
  {
   "cell_type": "code",
   "execution_count": 11,
   "id": "b3ba5029",
   "metadata": {},
   "outputs": [
    {
     "name": "stdout",
     "output_type": "stream",
     "text": [
      "0\n",
      "1\n",
      "2\n",
      "3\n"
     ]
    }
   ],
   "source": [
    "a = np.array(42)\n",
    "b = np.array([1,2,3,4])\n",
    "c = np.array([[1,2,3,4],[1,2,3,4]])\n",
    "d = np.array([[[1,2,3,4],[1,2,3,4]],[[1,2,3,4],[1,2,3,4]]])\n",
    "print(a.ndim)\n",
    "print(b.ndim)\n",
    "print(c.ndim)\n",
    "print(d.ndim)"
   ]
  },
  {
   "cell_type": "markdown",
   "id": "ec26d75b",
   "metadata": {},
   "source": [
    "# Higher Dimension Arrays\n",
    "# An array can have any number of dimensions.When the array is created,you can define the no.of dimensions by usig the n.dim argument "
   ]
  },
  {
   "cell_type": "markdown",
   "id": "4f5d521b",
   "metadata": {},
   "source": [
    "# Create an array with 5 dimensions and verify that it has 5 dimensions"
   ]
  },
  {
   "cell_type": "code",
   "execution_count": 9,
   "id": "a32169f9",
   "metadata": {},
   "outputs": [
    {
     "name": "stdout",
     "output_type": "stream",
     "text": [
      "[[[[[1 2 3 4 5]]]]]\n",
      "Number of Dimensions 5\n"
     ]
    }
   ],
   "source": [
    "import numpy as np\n",
    "arr = np.array([1,2,3,4,5],ndmin = 5)\n",
    "print(arr)\n",
    "print(\"Number of Dimensions\"  ,arr.ndim)"
   ]
  },
  {
   "cell_type": "code",
   "execution_count": 10,
   "id": "73102890",
   "metadata": {},
   "outputs": [
    {
     "name": "stdout",
     "output_type": "stream",
     "text": [
      "[[[[[1 2 3 4]]]]]\n",
      "5\n"
     ]
    }
   ],
   "source": [
    "a = np.array( [[[[[ 1,2,3,4]]]]])\n",
    "print(a)\n",
    "print(a.ndim)\n",
    "     "
   ]
  },
  {
   "cell_type": "markdown",
   "id": "c06f5925",
   "metadata": {},
   "source": [
    "# Numpy Array Indexing"
   ]
  },
  {
   "cell_type": "markdown",
   "id": "82189e41",
   "metadata": {},
   "source": [
    " Array Indexing is the same as accessing an array element.\n",
    "You can access an array element by referring to its index numbers.\n",
    "The index in numpy starts with 0 ,meaning that the first element has index 0, and the second has 1 etc."
   ]
  },
  {
   "cell_type": "markdown",
   "id": "fb637e99",
   "metadata": {},
   "source": [
    "# Get the first element from the following array"
   ]
  },
  {
   "cell_type": "code",
   "execution_count": 13,
   "id": "33340629",
   "metadata": {},
   "outputs": [
    {
     "name": "stdout",
     "output_type": "stream",
     "text": [
      "1\n"
     ]
    }
   ],
   "source": [
    "arr = np.array([1,2,3,4])\n",
    "print(arr[0])"
   ]
  },
  {
   "cell_type": "markdown",
   "id": "01c599ba",
   "metadata": {},
   "source": [
    "# Get third,sixth and eighth elements from the following array and add them"
   ]
  },
  {
   "cell_type": "code",
   "execution_count": 7,
   "id": "18c15147",
   "metadata": {},
   "outputs": [
    {
     "name": "stdout",
     "output_type": "stream",
     "text": [
      "The second element is 34\n",
      "The sixth element is 90\n",
      "The eighth element is  10\n",
      "The sum of these elements is  134\n"
     ]
    }
   ],
   "source": [
    "import numpy as np\n",
    "\n",
    "m = np.array([41,87,34,56,39,90,15,10,19,56])\n",
    "print( \"The second element is\", m[2])\n",
    "print( \"The sixth element is\", m[5])\n",
    "print( \"The eighth element is \", m[7])\n",
    "print( \"The sum of these elements is \",(m[2]+m[7]+m[5]))"
   ]
  },
  {
   "cell_type": "markdown",
   "id": "16439489",
   "metadata": {},
   "source": [
    "# Access 2-d arrays\n",
    "# To access elements from 2-d arrays we can use coma separated integers representing the dimension and the index of the element"
   ]
  },
  {
   "cell_type": "code",
   "execution_count": 8,
   "id": "d57aede5",
   "metadata": {},
   "outputs": [
    {
     "name": "stdout",
     "output_type": "stream",
     "text": [
      "Second element on Ist row:  20\n",
      "Fourth element on Ist row:  40\n",
      "First element on 2nd row :  60\n",
      "Last element on 2nd row  :  100\n",
      "Sum is 220\n",
      "30\n",
      "90\n"
     ]
    }
   ],
   "source": [
    "import numpy as np\n",
    "arr = np.array ([[10,20,30,40,50],[60,70,80,90,100]])\n",
    "print('Second element on Ist row: ', arr[0,1])\n",
    "print('Fourth element on Ist row: ', arr[0,3])\n",
    "print('First element on 2nd row : ',arr[1,0])\n",
    "print('Last element on 2nd row  : ', arr[1,4])\n",
    "print(\"Sum is\"  , arr[0,1]+arr[0,3]+ arr[1,0]+ arr[1,4])\n",
    "print(arr[0,2])\n",
    "print(arr[1,3])"
   ]
  },
  {
   "cell_type": "markdown",
   "id": "ec0b1765",
   "metadata": {},
   "source": [
    "# Access 3-d arrays"
   ]
  },
  {
   "cell_type": "markdown",
   "id": "c5d60c6f",
   "metadata": {},
   "source": [
    "# To access elements from 3-d arrays we can use comma separated integers representing the dimensions and the index position of the element\n",
    "# Access the third element of the second array of the first array"
   ]
  },
  {
   "cell_type": "code",
   "execution_count": 4,
   "id": "5801295d",
   "metadata": {},
   "outputs": [
    {
     "name": "stdout",
     "output_type": "stream",
     "text": [
      "6\n"
     ]
    }
   ],
   "source": [
    "arr = np.array([[[1,2,3],[4,5,6]],[[7,8,9],[10,11,12]]])\n",
    "print(arr[0,1,2])"
   ]
  },
  {
   "cell_type": "code",
   "execution_count": 5,
   "id": "816dc72e",
   "metadata": {},
   "outputs": [
    {
     "name": "stdout",
     "output_type": "stream",
     "text": [
      "12\n"
     ]
    }
   ],
   "source": [
    "print(arr[1,1,2])"
   ]
  },
  {
   "cell_type": "code",
   "execution_count": 6,
   "id": "12e78b8b",
   "metadata": {},
   "outputs": [
    {
     "name": "stdout",
     "output_type": "stream",
     "text": [
      "8\n"
     ]
    }
   ],
   "source": [
    "print(arr[1,0,1])"
   ]
  },
  {
   "cell_type": "code",
   "execution_count": 7,
   "id": "bdec90be",
   "metadata": {},
   "outputs": [
    {
     "name": "stdout",
     "output_type": "stream",
     "text": [
      "10\n"
     ]
    }
   ],
   "source": [
    "print(arr[1,1,0])"
   ]
  },
  {
   "cell_type": "code",
   "execution_count": null,
   "id": "c7acfd28",
   "metadata": {},
   "outputs": [],
   "source": []
  }
 ],
 "metadata": {
  "kernelspec": {
   "display_name": "Python 3 (ipykernel)",
   "language": "python",
   "name": "python3"
  },
  "language_info": {
   "codemirror_mode": {
    "name": "ipython",
    "version": 3
   },
   "file_extension": ".py",
   "mimetype": "text/x-python",
   "name": "python",
   "nbconvert_exporter": "python",
   "pygments_lexer": "ipython3",
   "version": "3.9.12"
  }
 },
 "nbformat": 4,
 "nbformat_minor": 5
}
