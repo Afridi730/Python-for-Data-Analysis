{
 "cells": [
  {
   "cell_type": "markdown",
   "id": "3fa2d463",
   "metadata": {},
   "source": [
    "# Lists in Python"
   ]
  },
  {
   "cell_type": "markdown",
   "id": "55ad616b",
   "metadata": {},
   "source": [
    "# Multiply all the Numbers of a List"
   ]
  },
  {
   "cell_type": "code",
   "execution_count": 12,
   "id": "d047903a",
   "metadata": {},
   "outputs": [
    {
     "name": "stdout",
     "output_type": "stream",
     "text": [
      "10\n",
      "the product of a list is 1\n",
      "the product of a list is 2\n",
      "the product of a list is 6\n",
      "the product of a list is 24\n",
      "the product of a list is 120\n",
      "the product of a list is 720\n",
      "the product of a list is 5040\n",
      "the product of a list is 40320\n",
      "the product of a list is 362880\n"
     ]
    }
   ],
   "source": [
    "l= [1,2,3,4,5,6,7,8,9,10]\n",
    "print(len(l))\n",
    "\n",
    "\n",
    "a = 1\n",
    "\n",
    "for i in range(9):\n",
    "    a = a*l[i]\n",
    "    i = i+1   \n",
    "    print(\"the product of a list is\",a)"
   ]
  },
  {
   "cell_type": "code",
   "execution_count": 16,
   "id": "87e0893e",
   "metadata": {},
   "outputs": [],
   "source": [
    "n = [1,2,3,4,5,6,7,8,9,10]\n",
    "def multiply(n):\n",
    "    total = 1\n",
    "    for i in range(9):\n",
    "        total= total* n[i]\n",
    "        i = i +1\n",
    "    print (total) "
   ]
  },
  {
   "cell_type": "markdown",
   "id": "4cef2144",
   "metadata": {},
   "source": [
    "# Creating a List"
   ]
  },
  {
   "cell_type": "code",
   "execution_count": 1,
   "id": "ac109cb6",
   "metadata": {},
   "outputs": [
    {
     "name": "stdout",
     "output_type": "stream",
     "text": [
      "['apple', 'banana', 'Cherry']\n"
     ]
    }
   ],
   "source": [
    "mylist = [\"apple\",\"banana\", \"Cherry\"]\n",
    "print(mylist)\n"
   ]
  },
  {
   "cell_type": "code",
   "execution_count": 2,
   "id": "edc28ee4",
   "metadata": {},
   "outputs": [
    {
     "name": "stdout",
     "output_type": "stream",
     "text": [
      "<class 'list'>\n"
     ]
    }
   ],
   "source": [
    "print(type(mylist))"
   ]
  },
  {
   "cell_type": "markdown",
   "id": "c580038c",
   "metadata": {},
   "source": [
    "# Allow Duplicates"
   ]
  },
  {
   "cell_type": "code",
   "execution_count": 3,
   "id": "b3b8dcf7",
   "metadata": {},
   "outputs": [
    {
     "name": "stdout",
     "output_type": "stream",
     "text": [
      "['apple', 'banana', 'Cherry', 'apple', 'banana', 'Cherry']\n"
     ]
    }
   ],
   "source": [
    "mylist = [\"apple\",\"banana\", \"Cherry\" , \"apple\",\"banana\", \"Cherry\"]\n",
    "print(mylist)"
   ]
  },
  {
   "cell_type": "markdown",
   "id": "ab8c484c",
   "metadata": {},
   "source": [
    "# Data types"
   ]
  },
  {
   "cell_type": "code",
   "execution_count": 4,
   "id": "bff545d4",
   "metadata": {},
   "outputs": [
    {
     "name": "stdout",
     "output_type": "stream",
     "text": [
      "['apple', 'banana', 'Cherry']\n",
      "[2, 5, 8]\n",
      "[7, 8, 8, 9, 2, 5]\n",
      "[True, False, True]\n"
     ]
    }
   ],
   "source": [
    "list1 = [\"apple\",\"banana\", \"Cherry\"  ]\n",
    "list2 = [2,5,8]\n",
    "list3 = [ 7,8,8,9,2,5]\n",
    "list4 = [True,False,True]\n",
    "print(list1)\n",
    "print(list2)\n",
    "print(list3)\n",
    "print(list4)"
   ]
  },
  {
   "cell_type": "markdown",
   "id": "5fc151c8",
   "metadata": {},
   "source": [
    "# Length of List\n",
    "a = [12,-8,5,-7,2.3,2,5,3.6,\"Students Hello\", True,False]\n",
    "print(a)\n",
    "print(len(a))"
   ]
  },
  {
   "cell_type": "code",
   "execution_count": 7,
   "id": "daa45cf2",
   "metadata": {},
   "outputs": [
    {
     "name": "stdout",
     "output_type": "stream",
     "text": [
      "[12, -8, 5, -7, 2.3, 2, 5, 3.6, 'Students Hello', True, False]\n",
      "11\n"
     ]
    }
   ],
   "source": [
    "a = [12,-8,5,-7,2.3,2,5,3.6,\"Students Hello\", True,False]\n",
    "print(a)\n",
    "print(len(a))"
   ]
  },
  {
   "cell_type": "raw",
   "id": "9c3baaf0",
   "metadata": {},
   "source": [
    "# Access Items"
   ]
  },
  {
   "cell_type": "code",
   "execution_count": 9,
   "id": "c9d2acf9",
   "metadata": {},
   "outputs": [
    {
     "name": "stdout",
     "output_type": "stream",
     "text": [
      "14\n",
      "5\n",
      "5\n",
      "2\n"
     ]
    }
   ],
   "source": [
    "thislist = [12,14,45,35,96,67,89,70,5,2,34,56,65,6,5]\n",
    "print(thislist [1])\n",
    "print(thislist[8])\n",
    "print(thislist[-1])\n",
    "print(thislist[-6])"
   ]
  },
  {
   "cell_type": "raw",
   "id": "41b593ed",
   "metadata": {},
   "source": [
    "# Slicing of List"
   ]
  },
  {
   "cell_type": "code",
   "execution_count": 10,
   "id": "c58245f3",
   "metadata": {},
   "outputs": [
    {
     "name": "stdout",
     "output_type": "stream",
     "text": [
      "[12, 14, 45, 35, 96, 67]\n",
      "[35, 96, 67, 89, 70, 5]\n",
      "[12, 45, 96, 89, 5, 34]\n"
     ]
    }
   ],
   "source": [
    "thislist = [12,14,45,35,96,67,89,70,5,2,34,56,65,6,5]\n",
    "print(thislist[0:6])\n",
    "print(thislist[3:9])\n",
    "print(thislist[0:12:2])"
   ]
  },
  {
   "cell_type": "raw",
   "id": "0c3206d0",
   "metadata": {},
   "source": [
    "# Change Items"
   ]
  },
  {
   "cell_type": "code",
   "execution_count": 11,
   "id": "2942d594",
   "metadata": {},
   "outputs": [
    {
     "name": "stdout",
     "output_type": "stream",
     "text": [
      "['apple', 'Strawberry', 'Cherry']\n"
     ]
    }
   ],
   "source": [
    "mylist = [\"apple\",\"banana\", \"Cherry\"]\n",
    "mylist[1] = \"Strawberry\"\n",
    "print(mylist)"
   ]
  },
  {
   "cell_type": "raw",
   "id": "0ce75536",
   "metadata": {},
   "source": [
    "# Change a range of Items"
   ]
  },
  {
   "cell_type": "code",
   "execution_count": 12,
   "id": "f8b4cf78",
   "metadata": {},
   "outputs": [
    {
     "name": "stdout",
     "output_type": "stream",
     "text": [
      "[12, 14, ' Students', 35, 96, 67, 89, 70, 5, 2, 34, 56, 65, 6, 5]\n",
      "[12, 14, 'books', 'pen', 'paper', 96, 67, 89, 70, 5, 2, 34, 56, 65, 6, 5]\n"
     ]
    }
   ],
   "source": [
    "a = [ 12,14,45,35,96,67,89,70,5,2,34,56,65,6,5]\n",
    "a[2]= \" Students\" \n",
    "print(a)\n",
    "a[2:4]= [\"books\", \"pen\",\"paper\"]\n",
    "print(a)\n"
   ]
  },
  {
   "cell_type": "code",
   "execution_count": 15,
   "id": "11ef45c4",
   "metadata": {},
   "outputs": [
    {
     "name": "stdout",
     "output_type": "stream",
     "text": [
      "[12, 14, 45, 35, 96, 67, 89, 70, 5, 2, 34, 56, 65, 6, 5, -9]\n"
     ]
    }
   ],
   "source": [
    "a = [ 12,14,45,35,96,67,89,70,5,2,34,56,65,6,5]\n",
    "a.append(-9)\n",
    "print(a)"
   ]
  },
  {
   "cell_type": "code",
   "execution_count": 16,
   "id": "055d109c",
   "metadata": {},
   "outputs": [
    {
     "name": "stdout",
     "output_type": "stream",
     "text": [
      "[24, 45, 65, 86, 'pen', 'paper', 56, 2.3]\n"
     ]
    }
   ],
   "source": [
    "m = [24,45,65,78,86,\"pen\", \"paper\",56,2.3]\n",
    "m.remove(78)\n",
    "print(m)"
   ]
  },
  {
   "cell_type": "code",
   "execution_count": 17,
   "id": "3f5f639e",
   "metadata": {},
   "outputs": [
    {
     "name": "stdout",
     "output_type": "stream",
     "text": [
      "['apple', 'hello']\n"
     ]
    }
   ],
   "source": [
    "m = [\"apple\", \"student\",\"hello\"]\n",
    "m.remove(\"student\")\n",
    "print(m)"
   ]
  },
  {
   "cell_type": "raw",
   "id": "48a79c21",
   "metadata": {},
   "source": [
    "# Reversing"
   ]
  },
  {
   "cell_type": "code",
   "execution_count": 19,
   "id": "58fd2477",
   "metadata": {
    "scrolled": true
   },
   "outputs": [
    {
     "name": "stdout",
     "output_type": "stream",
     "text": [
      "['data', 'python', 5, 4, 3, 2, 1]\n"
     ]
    }
   ],
   "source": [
    "mylist = [1,2,3,4,5,\"python\", \"data\"]\n",
    "mylist.reverse()\n",
    "print(mylist)"
   ]
  },
  {
   "cell_type": "raw",
   "id": "9a34dac8",
   "metadata": {},
   "source": [
    "# Sum of all the numbers of a List"
   ]
  },
  {
   "cell_type": "code",
   "execution_count": 20,
   "id": "c2e39af2",
   "metadata": {},
   "outputs": [
    {
     "name": "stdout",
     "output_type": "stream",
     "text": [
      "13\n"
     ]
    }
   ],
   "source": [
    "l = [14,15,12,78,-9,23,-8,52,74,89,25,102,8]\n",
    "print(len(l))\n"
   ]
  },
  {
   "cell_type": "code",
   "execution_count": 23,
   "id": "4faef036",
   "metadata": {},
   "outputs": [
    {
     "name": "stdout",
     "output_type": "stream",
     "text": [
      "the sum of list l is   14\n",
      "the sum of list l is   29\n",
      "the sum of list l is   41\n",
      "the sum of list l is   119\n",
      "the sum of list l is   110\n",
      "the sum of list l is   133\n",
      "the sum of list l is   125\n",
      "the sum of list l is   177\n",
      "the sum of list l is   251\n",
      "the sum of list l is   340\n",
      "the sum of list l is   365\n",
      "the sum of list l is   467\n",
      "the sum of list l is   475\n"
     ]
    }
   ],
   "source": [
    "a = 0\n",
    "for i in range(13):\n",
    "    a = a + l[i]\n",
    "    i = i + 1\n",
    "    print(\"the sum of list l is  \" ,  a)"
   ]
  },
  {
   "cell_type": "raw",
   "id": "3c94444c",
   "metadata": {},
   "source": [
    "# Multiply all numbers of a List"
   ]
  },
  {
   "cell_type": "code",
   "execution_count": 24,
   "id": "e89f67f2",
   "metadata": {},
   "outputs": [
    {
     "name": "stdout",
     "output_type": "stream",
     "text": [
      "10\n"
     ]
    }
   ],
   "source": [
    "a = [1,2,3,4,5,6,7,8,9,10]\n",
    "print(len(a))\n"
   ]
  },
  {
   "cell_type": "code",
   "execution_count": 31,
   "id": "36ead640",
   "metadata": {},
   "outputs": [
    {
     "name": "stdout",
     "output_type": "stream",
     "text": [
      "the  product of list a is  1\n",
      "the  product of list a is  2\n",
      "the  product of list a is  6\n",
      "the  product of list a is  24\n",
      "the  product of list a is  120\n",
      "the  product of list a is  720\n",
      "the  product of list a is  5040\n",
      "the  product of list a is  40320\n",
      "the  product of list a is  362880\n",
      "the  product of list a is  3628800\n"
     ]
    }
   ],
   "source": [
    "a = [1,2,3,4,5,6,7,8,9,10]\n",
    "p = 1\n",
    "for i in range(10):\n",
    "    p = p*a[i]\n",
    "    i = i+1\n",
    "    print( \"the  product of list a is \" , p)"
   ]
  },
  {
   "cell_type": "code",
   "execution_count": null,
   "id": "e6c4f6df",
   "metadata": {},
   "outputs": [],
   "source": []
  }
 ],
 "metadata": {
  "kernelspec": {
   "display_name": "Python 3 (ipykernel)",
   "language": "python",
   "name": "python3"
  },
  "language_info": {
   "codemirror_mode": {
    "name": "ipython",
    "version": 3
   },
   "file_extension": ".py",
   "mimetype": "text/x-python",
   "name": "python",
   "nbconvert_exporter": "python",
   "pygments_lexer": "ipython3",
   "version": "3.9.12"
  }
 },
 "nbformat": 4,
 "nbformat_minor": 5
}
